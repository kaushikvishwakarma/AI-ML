{
 "cells": [
  {
   "cell_type": "code",
   "execution_count": 1,
   "id": "5d7de60a-d3e9-4811-8a43-b6ca704e781b",
   "metadata": {},
   "outputs": [],
   "source": [
    "import pandas as pd\n",
    "import numpy as np"
   ]
  },
  {
   "cell_type": "code",
   "execution_count": 3,
   "id": "dae4db90-b859-4ba9-9d26-55d2d5576a27",
   "metadata": {},
   "outputs": [
    {
     "data": {
      "text/plain": [
       "array([[1., 1., 1., 1., 1.],\n",
       "       [1., 1., 1., 1., 1.],\n",
       "       [1., 1., 1., 1., 1.]])"
      ]
     },
     "execution_count": 3,
     "metadata": {},
     "output_type": "execute_result"
    }
   ],
   "source": [
    "ones=np.ones((3,5))\n",
    "ones"
   ]
  },
  {
   "cell_type": "code",
   "execution_count": 8,
   "id": "d2a9b641-f311-4026-876f-1b50f11b615d",
   "metadata": {},
   "outputs": [
    {
     "data": {
      "text/plain": [
       "array([ 0,  3,  6,  9, 12, 15, 18, 21, 24, 27, 30, 33, 36, 39, 42, 45, 48,\n",
       "       51, 54, 57, 60, 63, 66, 69, 72, 75, 78, 81, 84, 87, 90, 93, 96, 99])"
      ]
     },
     "execution_count": 8,
     "metadata": {},
     "output_type": "execute_result"
    }
   ],
   "source": [
    "in9=np.arange(0,100,3,)\n",
    "in9"
   ]
  },
  {
   "cell_type": "code",
   "execution_count": 11,
   "id": "8d73a234-9036-43bf-a609-1cec54dab903",
   "metadata": {},
   "outputs": [
    {
     "data": {
      "text/plain": [
       "34"
      ]
     },
     "execution_count": 11,
     "metadata": {},
     "output_type": "execute_result"
    }
   ],
   "source": [
    "in9.size"
   ]
  },
  {
   "cell_type": "code",
   "execution_count": 12,
   "id": "b60fe7b4-f1d2-4090-9b34-5c0b089e0769",
   "metadata": {},
   "outputs": [
    {
     "data": {
      "text/plain": [
       "array([[0.60083857, 0.51088752, 0.1948614 , 0.18355847, 0.7953048 ],\n",
       "       [0.67051607, 0.73820648, 0.26282508, 0.94326928, 0.39499514],\n",
       "       [0.79528846, 0.99795463, 0.98533483, 0.23433015, 0.73251496]])"
      ]
     },
     "execution_count": 12,
     "metadata": {},
     "output_type": "execute_result"
    }
   ],
   "source": [
    "in11=np.random.rand(3,5)\n",
    "in11"
   ]
  },
  {
   "cell_type": "code",
   "execution_count": 13,
   "id": "60106d6a-ec92-4534-98ce-4fbf34573066",
   "metadata": {},
   "outputs": [
    {
     "data": {
      "text/plain": [
       "array([[6, 3, 7, 4, 6, 9],\n",
       "       [2, 6, 7, 4, 3, 7],\n",
       "       [7, 2, 5, 4, 1, 7],\n",
       "       [5, 1, 4, 0, 9, 5]])"
      ]
     },
     "execution_count": 13,
     "metadata": {},
     "output_type": "execute_result"
    }
   ],
   "source": [
    "np.random.seed(42)\n",
    "int12=np.random.randint(0,10,size=(4,6))\n",
    "int12"
   ]
  },
  {
   "cell_type": "code",
   "execution_count": 22,
   "id": "b76c738d-4712-4ee1-888a-004309365e22",
   "metadata": {},
   "outputs": [
    {
     "data": {
      "text/plain": [
       "array([[6, 7, 2, 0, 3],\n",
       "       [1, 7, 3, 1, 5],\n",
       "       [5, 9, 3, 5, 1]])"
      ]
     },
     "execution_count": 22,
     "metadata": {},
     "output_type": "execute_result"
    }
   ],
   "source": [
    "yoyo=np.random.randint(0,10,size=(3,5))\n",
    "\n",
    "\n",
    "\n",
    "yoyo"
   ]
  },
  {
   "cell_type": "code",
   "execution_count": 23,
   "id": "c04eb4e2-258e-4fbc-b99f-3869a34a4818",
   "metadata": {},
   "outputs": [
    {
     "data": {
      "text/plain": [
       "array([[3, 2, 4, 0, 1],\n",
       "       [0, 3, 2, 4, 1],\n",
       "       [4, 2, 0, 3, 1]], dtype=int64)"
      ]
     },
     "execution_count": 23,
     "metadata": {},
     "output_type": "execute_result"
    }
   ],
   "source": [
    "np.argsort(yoyo)"
   ]
  },
  {
   "cell_type": "code",
   "execution_count": null,
   "id": "e27a8806-cf09-4dd9-b4f4-b53635de8486",
   "metadata": {},
   "outputs": [],
   "source": []
  }
 ],
 "metadata": {
  "kernelspec": {
   "display_name": "Python 3 (ipykernel)",
   "language": "python",
   "name": "python3"
  },
  "language_info": {
   "codemirror_mode": {
    "name": "ipython",
    "version": 3
   },
   "file_extension": ".py",
   "mimetype": "text/x-python",
   "name": "python",
   "nbconvert_exporter": "python",
   "pygments_lexer": "ipython3",
   "version": "3.12.3"
  }
 },
 "nbformat": 4,
 "nbformat_minor": 5
}
